{
 "cells": [
  {
   "cell_type": "code",
   "execution_count": 3,
   "id": "b8b362f0",
   "metadata": {},
   "outputs": [
    {
     "name": "stdout",
     "output_type": "stream",
     "text": [
      "Animal Type:  Mammal\n",
      "Breed:  Dog\n",
      "Dogs give birth directly\n"
     ]
    }
   ],
   "source": [
    "class Animal:\n",
    "    def __init__(self, animal_type):\n",
    "        print(\"Animal Type: \", animal_type)\n",
    "    \n",
    "class Mammal(Animal):\n",
    "    def __init__(self, animal_breed):\n",
    "        super().__init__(\"Mammal\")\n",
    "        print(\"Breed: \", animal_breed)\n",
    "\n",
    "class Dog(Mammal):\n",
    "    def __init__(self):\n",
    "        super().__init__(\"Dog\")\n",
    "        print(\"Dogs give birth directly\")\n",
    "\n",
    "dog = Dog()"
   ]
  },
  {
   "cell_type": "code",
   "execution_count": 5,
   "id": "40d451be",
   "metadata": {},
   "outputs": [
    {
     "data": {
      "text/plain": [
       "(__main__.Dog, __main__.Mammal, __main__.Animal, object)"
      ]
     },
     "execution_count": 5,
     "metadata": {},
     "output_type": "execute_result"
    }
   ],
   "source": [
    "Dog.__mro__"
   ]
  },
  {
   "cell_type": "markdown",
   "id": "790835b5",
   "metadata": {},
   "source": [
    "https://www.programiz.com/python-programming/methods/built-in/super"
   ]
  },
  {
   "cell_type": "code",
   "execution_count": null,
   "id": "7efa8453",
   "metadata": {},
   "outputs": [],
   "source": []
  }
 ],
 "metadata": {
  "kernelspec": {
   "display_name": "Python 3",
   "language": "python",
   "name": "python3"
  },
  "language_info": {
   "codemirror_mode": {
    "name": "ipython",
    "version": 3
   },
   "file_extension": ".py",
   "mimetype": "text/x-python",
   "name": "python",
   "nbconvert_exporter": "python",
   "pygments_lexer": "ipython3",
   "version": "3.8.8"
  }
 },
 "nbformat": 4,
 "nbformat_minor": 5
}
